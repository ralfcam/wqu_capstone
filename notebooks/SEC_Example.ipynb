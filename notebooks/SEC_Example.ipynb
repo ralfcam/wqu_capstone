{
 "nbformat": 4,
 "nbformat_minor": 0,
 "metadata": {
  "colab": {
   "provenance": []
  },
  "kernelspec": {
   "name": "python3",
   "language": "python",
   "display_name": "Python 3 (ipykernel)"
  },
  "language_info": {
   "name": "python"
  }
 },
 "cells": [
  {
   "cell_type": "code",
   "execution_count": 1,
   "metadata": {
    "id": "leXZqkaUspeE",
    "ExecuteTime": {
     "end_time": "2024-03-15T19:42:01.681620400Z",
     "start_time": "2024-03-15T19:42:00.616083300Z"
    }
   },
   "outputs": [],
   "source": [
    "import requests\n",
    "import json\n",
    "import pandas as pd"
   ]
  },
  {
   "cell_type": "code",
   "source": [
    "headers = {'User-Agent': \"email@address.com\"}\n",
    "ciks = \"https://www.sec.gov/files/company_tickers.json\"\n",
    "symbol_to_cik = requests.get(ciks, headers=headers).json()\n",
    "for i in range(5):\n",
    "    print(i, symbol_to_cik[f\"{i}\"])"
   ],
   "metadata": {
    "colab": {
     "base_uri": "https://localhost:8080/"
    },
    "id": "z3ZgaLa9wbdK",
    "outputId": "a60ddaec-88e4-44d0-e67c-684133341467",
    "ExecuteTime": {
     "end_time": "2024-03-15T19:42:04.508999300Z",
     "start_time": "2024-03-15T19:42:03.148722200Z"
    }
   },
   "execution_count": 2,
   "outputs": [
    {
     "name": "stdout",
     "output_type": "stream",
     "text": [
      "0 {'cik_str': 789019, 'ticker': 'MSFT', 'title': 'MICROSOFT CORP'}\n",
      "1 {'cik_str': 320193, 'ticker': 'AAPL', 'title': 'Apple Inc.'}\n",
      "2 {'cik_str': 1045810, 'ticker': 'NVDA', 'title': 'NVIDIA CORP'}\n",
      "3 {'cik_str': 1018724, 'ticker': 'AMZN', 'title': 'AMAZON COM INC'}\n",
      "4 {'cik_str': 1652044, 'ticker': 'GOOGL', 'title': 'Alphabet Inc.'}\n"
     ]
    }
   ]
  },
  {
   "cell_type": "code",
   "source": [
    "cik_lookup = dict([(val['ticker'], val['cik_str']) for key, val in symbol_to_cik.items()])\n",
    "cik = cik_lookup['CVX']\n",
    "cik"
   ],
   "metadata": {
    "colab": {
     "base_uri": "https://localhost:8080/"
    },
    "id": "U-AFJPxvuO7W",
    "outputId": "f7745148-447a-4ab7-87d7-d7fd4510c748",
    "ExecuteTime": {
     "end_time": "2024-03-15T19:48:37.393379200Z",
     "start_time": "2024-03-15T19:48:37.351626800Z"
    }
   },
   "execution_count": 12,
   "outputs": [
    {
     "data": {
      "text/plain": "93410"
     },
     "execution_count": 12,
     "metadata": {},
     "output_type": "execute_result"
    }
   ]
  },
  {
   "cell_type": "code",
   "source": [
    "edgar_filings = requests.get(f\"https://data.sec.gov/submissions/CIK{cik:0>10}.json\", headers=headers).json()\n",
    "edgar_filings.keys()"
   ],
   "metadata": {
    "colab": {
     "base_uri": "https://localhost:8080/"
    },
    "id": "lCFvCNFWxCM-",
    "outputId": "9622a2c6-09cb-410d-c5cd-29b7ce96fea9",
    "ExecuteTime": {
     "end_time": "2024-03-15T19:48:49.973094200Z",
     "start_time": "2024-03-15T19:48:48.022392Z"
    }
   },
   "execution_count": 13,
   "outputs": [
    {
     "data": {
      "text/plain": "dict_keys(['cik', 'entityType', 'sic', 'sicDescription', 'insiderTransactionForOwnerExists', 'insiderTransactionForIssuerExists', 'name', 'tickers', 'exchanges', 'ein', 'description', 'website', 'investorWebsite', 'category', 'fiscalYearEnd', 'stateOfIncorporation', 'stateOfIncorporationDescription', 'addresses', 'phone', 'flags', 'formerNames', 'filings'])"
     },
     "execution_count": 13,
     "metadata": {},
     "output_type": "execute_result"
    }
   ]
  },
  {
   "cell_type": "code",
   "outputs": [
    {
     "data": {
      "text/plain": "                                 name  filingCount  filingFrom    filingTo\n0  CIK0000093410-submissions-001.json         1494  1994-02-03  2015-05-11",
      "text/html": "<div>\n<style scoped>\n    .dataframe tbody tr th:only-of-type {\n        vertical-align: middle;\n    }\n\n    .dataframe tbody tr th {\n        vertical-align: top;\n    }\n\n    .dataframe thead th {\n        text-align: right;\n    }\n</style>\n<table border=\"1\" class=\"dataframe\">\n  <thead>\n    <tr style=\"text-align: right;\">\n      <th></th>\n      <th>name</th>\n      <th>filingCount</th>\n      <th>filingFrom</th>\n      <th>filingTo</th>\n    </tr>\n  </thead>\n  <tbody>\n    <tr>\n      <th>0</th>\n      <td>CIK0000093410-submissions-001.json</td>\n      <td>1494</td>\n      <td>1994-02-03</td>\n      <td>2015-05-11</td>\n    </tr>\n  </tbody>\n</table>\n</div>"
     },
     "execution_count": 14,
     "metadata": {},
     "output_type": "execute_result"
    }
   ],
   "source": [
    "pd.DataFrame(edgar_filings['filings']['files'])"
   ],
   "metadata": {
    "collapsed": false,
    "ExecuteTime": {
     "end_time": "2024-03-15T19:48:50.077799Z",
     "start_time": "2024-03-15T19:48:49.992122Z"
    }
   },
   "execution_count": 14
  },
  {
   "cell_type": "code",
   "source": [
    "recents = pd.DataFrame(edgar_filings['filings']['recent'])\n",
    "recents.head()"
   ],
   "metadata": {
    "colab": {
     "base_uri": "https://localhost:8080/",
     "height": 206
    },
    "id": "6K5Y7NimxJHW",
    "outputId": "0615a49d-48fe-408c-e3ec-156153cd093e",
    "ExecuteTime": {
     "end_time": "2024-03-15T20:00:23.789226400Z",
     "start_time": "2024-03-15T20:00:23.753275400Z"
    }
   },
   "execution_count": 23,
   "outputs": [
    {
     "data": {
      "text/plain": "        accessionNumber  filingDate  reportDate        acceptanceDateTime act  \\\n0  0001127602-24-008918  2024-03-06  2024-02-06  2024-03-06T19:27:19.000Z       \n1  0001127602-24-008916  2024-03-06  2024-01-31  2024-03-06T19:25:45.000Z       \n2  0001127602-24-008914  2024-03-06  2023-12-18  2024-03-06T19:23:57.000Z       \n3  0001127602-24-008912  2024-03-06  2023-01-31  2024-03-06T19:21:48.000Z       \n4  0001127602-24-008910  2024-03-06  2023-01-25  2024-03-06T19:19:56.000Z       \n\n  form fileNumber filmNumber items   size  isXBRL  isInlineXBRL  \\\n0  4/A                              10727       0             0   \n1  4/A                              12985       0             0   \n2  4/A                              12234       0             0   \n3  4/A                              11267       0             0   \n4  4/A                              10602       0             0   \n\n         primaryDocument primaryDocDescription  \n0  xslF345X05/form4a.xml      PRIMARY DOCUMENT  \n1  xslF345X05/form4a.xml      PRIMARY DOCUMENT  \n2  xslF345X05/form4a.xml      PRIMARY DOCUMENT  \n3  xslF345X05/form4a.xml      PRIMARY DOCUMENT  \n4  xslF345X05/form4a.xml      PRIMARY DOCUMENT  ",
      "text/html": "<div>\n<style scoped>\n    .dataframe tbody tr th:only-of-type {\n        vertical-align: middle;\n    }\n\n    .dataframe tbody tr th {\n        vertical-align: top;\n    }\n\n    .dataframe thead th {\n        text-align: right;\n    }\n</style>\n<table border=\"1\" class=\"dataframe\">\n  <thead>\n    <tr style=\"text-align: right;\">\n      <th></th>\n      <th>accessionNumber</th>\n      <th>filingDate</th>\n      <th>reportDate</th>\n      <th>acceptanceDateTime</th>\n      <th>act</th>\n      <th>form</th>\n      <th>fileNumber</th>\n      <th>filmNumber</th>\n      <th>items</th>\n      <th>size</th>\n      <th>isXBRL</th>\n      <th>isInlineXBRL</th>\n      <th>primaryDocument</th>\n      <th>primaryDocDescription</th>\n    </tr>\n  </thead>\n  <tbody>\n    <tr>\n      <th>0</th>\n      <td>0001127602-24-008918</td>\n      <td>2024-03-06</td>\n      <td>2024-02-06</td>\n      <td>2024-03-06T19:27:19.000Z</td>\n      <td></td>\n      <td>4/A</td>\n      <td></td>\n      <td></td>\n      <td></td>\n      <td>10727</td>\n      <td>0</td>\n      <td>0</td>\n      <td>xslF345X05/form4a.xml</td>\n      <td>PRIMARY DOCUMENT</td>\n    </tr>\n    <tr>\n      <th>1</th>\n      <td>0001127602-24-008916</td>\n      <td>2024-03-06</td>\n      <td>2024-01-31</td>\n      <td>2024-03-06T19:25:45.000Z</td>\n      <td></td>\n      <td>4/A</td>\n      <td></td>\n      <td></td>\n      <td></td>\n      <td>12985</td>\n      <td>0</td>\n      <td>0</td>\n      <td>xslF345X05/form4a.xml</td>\n      <td>PRIMARY DOCUMENT</td>\n    </tr>\n    <tr>\n      <th>2</th>\n      <td>0001127602-24-008914</td>\n      <td>2024-03-06</td>\n      <td>2023-12-18</td>\n      <td>2024-03-06T19:23:57.000Z</td>\n      <td></td>\n      <td>4/A</td>\n      <td></td>\n      <td></td>\n      <td></td>\n      <td>12234</td>\n      <td>0</td>\n      <td>0</td>\n      <td>xslF345X05/form4a.xml</td>\n      <td>PRIMARY DOCUMENT</td>\n    </tr>\n    <tr>\n      <th>3</th>\n      <td>0001127602-24-008912</td>\n      <td>2024-03-06</td>\n      <td>2023-01-31</td>\n      <td>2024-03-06T19:21:48.000Z</td>\n      <td></td>\n      <td>4/A</td>\n      <td></td>\n      <td></td>\n      <td></td>\n      <td>11267</td>\n      <td>0</td>\n      <td>0</td>\n      <td>xslF345X05/form4a.xml</td>\n      <td>PRIMARY DOCUMENT</td>\n    </tr>\n    <tr>\n      <th>4</th>\n      <td>0001127602-24-008910</td>\n      <td>2024-03-06</td>\n      <td>2023-01-25</td>\n      <td>2024-03-06T19:19:56.000Z</td>\n      <td></td>\n      <td>4/A</td>\n      <td></td>\n      <td></td>\n      <td></td>\n      <td>10602</td>\n      <td>0</td>\n      <td>0</td>\n      <td>xslF345X05/form4a.xml</td>\n      <td>PRIMARY DOCUMENT</td>\n    </tr>\n  </tbody>\n</table>\n</div>"
     },
     "execution_count": 23,
     "metadata": {},
     "output_type": "execute_result"
    }
   ]
  },
  {
   "cell_type": "code",
   "outputs": [
    {
     "data": {
      "text/plain": "           accessionNumber  filingDate  reportDate        acceptanceDateTime  \\\n1003  0001127602-15-018932  2015-05-29  2015-05-27  2015-05-29T14:41:52.000Z   \n1004  0001127602-15-018930  2015-05-29  2015-05-27  2015-05-29T14:39:37.000Z   \n1005  0001127602-15-018927  2015-05-29  2015-05-27  2015-05-29T14:36:50.000Z   \n1006  0000093410-15-000022  2015-05-21              2015-05-21T10:57:44.000Z   \n1007  0001127602-15-017028  2015-05-12  2015-05-11  2015-05-12T19:37:27.000Z   \n\n     act form fileNumber filmNumber items   size  isXBRL  isInlineXBRL  \\\n1003        4                               5039       0             0   \n1004        4                               4848       0             0   \n1005        4                               4788       0             0   \n1006  34   SD  001-00368   15881666        18720       0             0   \n1007        4                               6091       0             0   \n\n           primaryDocument primaryDocDescription  \n1003  xslF345X03/form4.xml      PRIMARY DOCUMENT  \n1004  xslF345X03/form4.xml      PRIMARY DOCUMENT  \n1005  xslF345X03/form4.xml      PRIMARY DOCUMENT  \n1006       formsd52115.htm                    SD  \n1007  xslF345X03/form4.xml      PRIMARY DOCUMENT  ",
      "text/html": "<div>\n<style scoped>\n    .dataframe tbody tr th:only-of-type {\n        vertical-align: middle;\n    }\n\n    .dataframe tbody tr th {\n        vertical-align: top;\n    }\n\n    .dataframe thead th {\n        text-align: right;\n    }\n</style>\n<table border=\"1\" class=\"dataframe\">\n  <thead>\n    <tr style=\"text-align: right;\">\n      <th></th>\n      <th>accessionNumber</th>\n      <th>filingDate</th>\n      <th>reportDate</th>\n      <th>acceptanceDateTime</th>\n      <th>act</th>\n      <th>form</th>\n      <th>fileNumber</th>\n      <th>filmNumber</th>\n      <th>items</th>\n      <th>size</th>\n      <th>isXBRL</th>\n      <th>isInlineXBRL</th>\n      <th>primaryDocument</th>\n      <th>primaryDocDescription</th>\n    </tr>\n  </thead>\n  <tbody>\n    <tr>\n      <th>1003</th>\n      <td>0001127602-15-018932</td>\n      <td>2015-05-29</td>\n      <td>2015-05-27</td>\n      <td>2015-05-29T14:41:52.000Z</td>\n      <td></td>\n      <td>4</td>\n      <td></td>\n      <td></td>\n      <td></td>\n      <td>5039</td>\n      <td>0</td>\n      <td>0</td>\n      <td>xslF345X03/form4.xml</td>\n      <td>PRIMARY DOCUMENT</td>\n    </tr>\n    <tr>\n      <th>1004</th>\n      <td>0001127602-15-018930</td>\n      <td>2015-05-29</td>\n      <td>2015-05-27</td>\n      <td>2015-05-29T14:39:37.000Z</td>\n      <td></td>\n      <td>4</td>\n      <td></td>\n      <td></td>\n      <td></td>\n      <td>4848</td>\n      <td>0</td>\n      <td>0</td>\n      <td>xslF345X03/form4.xml</td>\n      <td>PRIMARY DOCUMENT</td>\n    </tr>\n    <tr>\n      <th>1005</th>\n      <td>0001127602-15-018927</td>\n      <td>2015-05-29</td>\n      <td>2015-05-27</td>\n      <td>2015-05-29T14:36:50.000Z</td>\n      <td></td>\n      <td>4</td>\n      <td></td>\n      <td></td>\n      <td></td>\n      <td>4788</td>\n      <td>0</td>\n      <td>0</td>\n      <td>xslF345X03/form4.xml</td>\n      <td>PRIMARY DOCUMENT</td>\n    </tr>\n    <tr>\n      <th>1006</th>\n      <td>0000093410-15-000022</td>\n      <td>2015-05-21</td>\n      <td></td>\n      <td>2015-05-21T10:57:44.000Z</td>\n      <td>34</td>\n      <td>SD</td>\n      <td>001-00368</td>\n      <td>15881666</td>\n      <td></td>\n      <td>18720</td>\n      <td>0</td>\n      <td>0</td>\n      <td>formsd52115.htm</td>\n      <td>SD</td>\n    </tr>\n    <tr>\n      <th>1007</th>\n      <td>0001127602-15-017028</td>\n      <td>2015-05-12</td>\n      <td>2015-05-11</td>\n      <td>2015-05-12T19:37:27.000Z</td>\n      <td></td>\n      <td>4</td>\n      <td></td>\n      <td></td>\n      <td></td>\n      <td>6091</td>\n      <td>0</td>\n      <td>0</td>\n      <td>xslF345X03/form4.xml</td>\n      <td>PRIMARY DOCUMENT</td>\n    </tr>\n  </tbody>\n</table>\n</div>"
     },
     "execution_count": 24,
     "metadata": {},
     "output_type": "execute_result"
    }
   ],
   "source": [
    "recents.tail()"
   ],
   "metadata": {
    "collapsed": false,
    "ExecuteTime": {
     "end_time": "2024-03-15T20:00:25.136255500Z",
     "start_time": "2024-03-15T20:00:25.017303100Z"
    }
   },
   "execution_count": 24
  },
  {
   "cell_type": "code",
   "source": [
    "recents_10Q = recents.loc[recents['primaryDocDescription'] == '10-K']\n",
    "recents_10Q.head()"
   ],
   "metadata": {
    "colab": {
     "base_uri": "https://localhost:8080/",
     "height": 206
    },
    "id": "I2ng-IMWxQaG",
    "outputId": "260b82ce-0364-4de2-af4a-de0062940554",
    "ExecuteTime": {
     "end_time": "2024-03-15T20:00:41.234431300Z",
     "start_time": "2024-03-15T20:00:41.209522600Z"
    }
   },
   "execution_count": 25,
   "outputs": [
    {
     "data": {
      "text/plain": "          accessionNumber  filingDate  reportDate        acceptanceDateTime  \\\n9    0000093410-24-000013  2024-02-26  2023-12-31  2024-02-26T16:07:14.000Z   \n158  0000093410-23-000009  2023-02-23  2022-12-31  2023-02-23T11:51:02.000Z   \n299  0000093410-22-000019  2022-02-24  2021-12-31  2022-02-24T11:45:37.000Z   \n425  0000093410-21-000009  2021-02-25  2020-12-31  2021-02-25T14:32:29.000Z   \n563  0000093410-20-000010  2020-02-21  2019-12-31  2020-02-21T11:40:21.000Z   \n\n    act  form fileNumber filmNumber items      size  isXBRL  isInlineXBRL  \\\n9    34  10-K  001-00368   24678720        26497048       1             1   \n158  34  10-K  001-00368   23657837        27668338       1             1   \n299  34  10-K  001-00368   22668315        28652588       1             1   \n425  34  10-K  001-00368   21679450        29919569       1             1   \n563  34  10-K  001-00368   20638157        31415187       1             1   \n\n            primaryDocument primaryDocDescription  \n9          cvx-20231231.htm                  10-K  \n158        cvx-20221231.htm                  10-K  \n299        cvx-20211231.htm                  10-K  \n425        cvx-20201231.htm                  10-K  \n563  cvx12312019-10kdoc.htm                  10-K  ",
      "text/html": "<div>\n<style scoped>\n    .dataframe tbody tr th:only-of-type {\n        vertical-align: middle;\n    }\n\n    .dataframe tbody tr th {\n        vertical-align: top;\n    }\n\n    .dataframe thead th {\n        text-align: right;\n    }\n</style>\n<table border=\"1\" class=\"dataframe\">\n  <thead>\n    <tr style=\"text-align: right;\">\n      <th></th>\n      <th>accessionNumber</th>\n      <th>filingDate</th>\n      <th>reportDate</th>\n      <th>acceptanceDateTime</th>\n      <th>act</th>\n      <th>form</th>\n      <th>fileNumber</th>\n      <th>filmNumber</th>\n      <th>items</th>\n      <th>size</th>\n      <th>isXBRL</th>\n      <th>isInlineXBRL</th>\n      <th>primaryDocument</th>\n      <th>primaryDocDescription</th>\n    </tr>\n  </thead>\n  <tbody>\n    <tr>\n      <th>9</th>\n      <td>0000093410-24-000013</td>\n      <td>2024-02-26</td>\n      <td>2023-12-31</td>\n      <td>2024-02-26T16:07:14.000Z</td>\n      <td>34</td>\n      <td>10-K</td>\n      <td>001-00368</td>\n      <td>24678720</td>\n      <td></td>\n      <td>26497048</td>\n      <td>1</td>\n      <td>1</td>\n      <td>cvx-20231231.htm</td>\n      <td>10-K</td>\n    </tr>\n    <tr>\n      <th>158</th>\n      <td>0000093410-23-000009</td>\n      <td>2023-02-23</td>\n      <td>2022-12-31</td>\n      <td>2023-02-23T11:51:02.000Z</td>\n      <td>34</td>\n      <td>10-K</td>\n      <td>001-00368</td>\n      <td>23657837</td>\n      <td></td>\n      <td>27668338</td>\n      <td>1</td>\n      <td>1</td>\n      <td>cvx-20221231.htm</td>\n      <td>10-K</td>\n    </tr>\n    <tr>\n      <th>299</th>\n      <td>0000093410-22-000019</td>\n      <td>2022-02-24</td>\n      <td>2021-12-31</td>\n      <td>2022-02-24T11:45:37.000Z</td>\n      <td>34</td>\n      <td>10-K</td>\n      <td>001-00368</td>\n      <td>22668315</td>\n      <td></td>\n      <td>28652588</td>\n      <td>1</td>\n      <td>1</td>\n      <td>cvx-20211231.htm</td>\n      <td>10-K</td>\n    </tr>\n    <tr>\n      <th>425</th>\n      <td>0000093410-21-000009</td>\n      <td>2021-02-25</td>\n      <td>2020-12-31</td>\n      <td>2021-02-25T14:32:29.000Z</td>\n      <td>34</td>\n      <td>10-K</td>\n      <td>001-00368</td>\n      <td>21679450</td>\n      <td></td>\n      <td>29919569</td>\n      <td>1</td>\n      <td>1</td>\n      <td>cvx-20201231.htm</td>\n      <td>10-K</td>\n    </tr>\n    <tr>\n      <th>563</th>\n      <td>0000093410-20-000010</td>\n      <td>2020-02-21</td>\n      <td>2019-12-31</td>\n      <td>2020-02-21T11:40:21.000Z</td>\n      <td>34</td>\n      <td>10-K</td>\n      <td>001-00368</td>\n      <td>20638157</td>\n      <td></td>\n      <td>31415187</td>\n      <td>1</td>\n      <td>1</td>\n      <td>cvx12312019-10kdoc.htm</td>\n      <td>10-K</td>\n    </tr>\n  </tbody>\n</table>\n</div>"
     },
     "execution_count": 25,
     "metadata": {},
     "output_type": "execute_result"
    }
   ]
  },
  {
   "cell_type": "code",
   "outputs": [
    {
     "data": {
      "text/plain": "          accessionNumber  filingDate  reportDate        acceptanceDateTime  \\\n563  0000093410-20-000010  2020-02-21  2019-12-31  2020-02-21T11:40:21.000Z   \n671  0000093410-19-000008  2019-02-22  2018-12-31  2019-02-22T11:25:08.000Z   \n759  0000093410-18-000010  2018-02-22  2017-12-31  2018-02-22T11:49:59.000Z   \n843  0000093410-17-000013  2017-02-23  2016-12-31  2017-02-23T12:18:42.000Z   \n940  0000093410-16-000049  2016-02-25  2015-12-31  2016-02-25T12:08:14.000Z   \n\n    act  form fileNumber filmNumber items      size  isXBRL  isInlineXBRL  \\\n563  34  10-K  001-00368   20638157        31415187       1             1   \n671  34  10-K  001-00368   19624520        27942737       1             0   \n759  34  10-K  001-00368   18631598        26865786       1             0   \n843  34  10-K  001-00368   17631521        28494560       1             0   \n940  34  10-K  001-00368  161454688        26171984       1             0   \n\n            primaryDocument primaryDocDescription  \n563  cvx12312019-10kdoc.htm                  10-K  \n671  cvx12312018-10kdoc.htm                  10-K  \n759  cvx12312017-10kdoc.htm                  10-K  \n843   cvx-123116x10kdoc.htm                  10-K  \n940   cvx-123115x10kdoc.htm                  10-K  ",
      "text/html": "<div>\n<style scoped>\n    .dataframe tbody tr th:only-of-type {\n        vertical-align: middle;\n    }\n\n    .dataframe tbody tr th {\n        vertical-align: top;\n    }\n\n    .dataframe thead th {\n        text-align: right;\n    }\n</style>\n<table border=\"1\" class=\"dataframe\">\n  <thead>\n    <tr style=\"text-align: right;\">\n      <th></th>\n      <th>accessionNumber</th>\n      <th>filingDate</th>\n      <th>reportDate</th>\n      <th>acceptanceDateTime</th>\n      <th>act</th>\n      <th>form</th>\n      <th>fileNumber</th>\n      <th>filmNumber</th>\n      <th>items</th>\n      <th>size</th>\n      <th>isXBRL</th>\n      <th>isInlineXBRL</th>\n      <th>primaryDocument</th>\n      <th>primaryDocDescription</th>\n    </tr>\n  </thead>\n  <tbody>\n    <tr>\n      <th>563</th>\n      <td>0000093410-20-000010</td>\n      <td>2020-02-21</td>\n      <td>2019-12-31</td>\n      <td>2020-02-21T11:40:21.000Z</td>\n      <td>34</td>\n      <td>10-K</td>\n      <td>001-00368</td>\n      <td>20638157</td>\n      <td></td>\n      <td>31415187</td>\n      <td>1</td>\n      <td>1</td>\n      <td>cvx12312019-10kdoc.htm</td>\n      <td>10-K</td>\n    </tr>\n    <tr>\n      <th>671</th>\n      <td>0000093410-19-000008</td>\n      <td>2019-02-22</td>\n      <td>2018-12-31</td>\n      <td>2019-02-22T11:25:08.000Z</td>\n      <td>34</td>\n      <td>10-K</td>\n      <td>001-00368</td>\n      <td>19624520</td>\n      <td></td>\n      <td>27942737</td>\n      <td>1</td>\n      <td>0</td>\n      <td>cvx12312018-10kdoc.htm</td>\n      <td>10-K</td>\n    </tr>\n    <tr>\n      <th>759</th>\n      <td>0000093410-18-000010</td>\n      <td>2018-02-22</td>\n      <td>2017-12-31</td>\n      <td>2018-02-22T11:49:59.000Z</td>\n      <td>34</td>\n      <td>10-K</td>\n      <td>001-00368</td>\n      <td>18631598</td>\n      <td></td>\n      <td>26865786</td>\n      <td>1</td>\n      <td>0</td>\n      <td>cvx12312017-10kdoc.htm</td>\n      <td>10-K</td>\n    </tr>\n    <tr>\n      <th>843</th>\n      <td>0000093410-17-000013</td>\n      <td>2017-02-23</td>\n      <td>2016-12-31</td>\n      <td>2017-02-23T12:18:42.000Z</td>\n      <td>34</td>\n      <td>10-K</td>\n      <td>001-00368</td>\n      <td>17631521</td>\n      <td></td>\n      <td>28494560</td>\n      <td>1</td>\n      <td>0</td>\n      <td>cvx-123116x10kdoc.htm</td>\n      <td>10-K</td>\n    </tr>\n    <tr>\n      <th>940</th>\n      <td>0000093410-16-000049</td>\n      <td>2016-02-25</td>\n      <td>2015-12-31</td>\n      <td>2016-02-25T12:08:14.000Z</td>\n      <td>34</td>\n      <td>10-K</td>\n      <td>001-00368</td>\n      <td>161454688</td>\n      <td></td>\n      <td>26171984</td>\n      <td>1</td>\n      <td>0</td>\n      <td>cvx-123115x10kdoc.htm</td>\n      <td>10-K</td>\n    </tr>\n  </tbody>\n</table>\n</div>"
     },
     "execution_count": 21,
     "metadata": {},
     "output_type": "execute_result"
    }
   ],
   "source": [
    "recents_10Q.tail()"
   ],
   "metadata": {
    "collapsed": false,
    "ExecuteTime": {
     "end_time": "2024-03-15T19:58:54.441363200Z",
     "start_time": "2024-03-15T19:58:54.357618900Z"
    }
   },
   "execution_count": 21
  },
  {
   "cell_type": "markdown",
   "source": [
    "Example:  \n",
    "To create URL for the report, use CIK, accessionNumber (remove dashes) and primaryDocument"
   ],
   "metadata": {
    "id": "wPRsT44Jx6Sc"
   }
  },
  {
   "cell_type": "markdown",
   "source": [
    "https://www.sec.gov/ixviewer/ix.html?doc=/Archives/edgar/data/93410/000009341021000009/cvx-20201231.htm"
   ],
   "metadata": {
    "collapsed": false
   }
  },
  {
   "cell_type": "code",
   "outputs": [
    {
     "data": {
      "text/plain": "93410"
     },
     "execution_count": 19,
     "metadata": {},
     "output_type": "execute_result"
    }
   ],
   "source": [
    "cik"
   ],
   "metadata": {
    "collapsed": false,
    "ExecuteTime": {
     "end_time": "2024-03-15T19:53:12.393814400Z",
     "start_time": "2024-03-15T19:53:12.364429300Z"
    }
   },
   "execution_count": 19
  },
  {
   "cell_type": "markdown",
   "source": [
    "0000093410-15-000031"
   ],
   "metadata": {
    "collapsed": false
   }
  },
  {
   "cell_type": "markdown",
   "source": [
    "In this document you can find:  \n",
    "Financial and operational results  \n",
    "•Our net income was USD453 million in the third quarter of 2023 as compared to net income of USD817 million in the same period last year. Included in our financial results for the current quarter:  \n",
    "◦Revenues from contracts with customers decreased USD237 million compared to the same quarter last year as a result of lower realized commodity prices, partially offset by increased sales. Lower realized commodity prices also resulted in lower income from equity method investments, which decreased USD152 million compared to the same quarter last year.  \n",
    "◦Net sales volumes in the U.S. segment increased 25% compared to the same period last year, primarily driven by increased production from the acreage acquired from Ensign.  \n",
    "◦The increase in net sales volumes resulted in higher depreciation, depletion and amortization expense of USD123 million as compared to the same quarter last year.  \n",
    "◦Our provision for income taxes decreased USD113 million compared to the same quarter last year.  \n",
    "•Upon conclusion of the third quarter, we announced the signing of a 5-year firm LNG sales agreement for a portion of our equity gas from the Alba Field liquefied at EG LNG. The contract is effective January 1, 2024, and features a pricing structure linked to the Dutch Title Transfer Facility (TTF) index, providing us with significant incremental exposure to the European LNG market."
   ],
   "metadata": {
    "id": "ihKuG5mOyoNv"
   }
  },
  {
   "cell_type": "markdown",
   "source": [
    "Sources of cash and cash equivalents  \n",
    "Cash flows generated from operating activities during the third quarter of 2023 were 30% lower compared to 2022, primarily as a result of lower realized commodity prices, partially offset by higher volumes resulting from our acquisition of the Eagle Ford assets of Ensign in December 2022.  \n",
    "During the first nine months of 2023, we borrowed USD1.0 billion and repaid USD1.5 billion under our Revolving Credit Facility. Additionally, we have net outstanding commercial paper borrowings of USD450 million as of September 30, 2023. See the Liquidity and Capital Resources section below for further information."
   ],
   "metadata": {
    "id": "bdxb4RVv4Y1b"
   }
  },
  {
   "cell_type": "markdown",
   "source": [
    "How returns are related to reports"
   ],
   "metadata": {
    "id": "BZ5ZD6PuzLzf"
   }
  },
  {
   "cell_type": "code",
   "source": [
    "#recents_selected_releases = recents.loc[recents['primaryDocDescription'].isin(['10-Q', '10-K', '8-K'])]\n",
    "recents_selected_releases = recents.loc[recents['primaryDocDescription'].isin(['10-Q', '10-K' ])]\n",
    "recents_selected_releases.head()"
   ],
   "metadata": {
    "colab": {
     "base_uri": "https://localhost:8080/",
     "height": 206
    },
    "id": "zQZJqzyJzap2",
    "outputId": "8c183b95-6a8b-457c-81d5-cd99d2252dfd"
   },
   "execution_count": null,
   "outputs": [
    {
     "output_type": "execute_result",
     "data": {
      "text/plain": [
       "         accessionNumber  filingDate  reportDate        acceptanceDateTime  \\\n",
       "14  0000101778-24-000023  2024-02-22  2023-12-31  2024-02-22T16:33:31.000Z   \n",
       "25  0000101778-23-000146  2023-11-02  2023-09-30  2023-11-02T16:21:32.000Z   \n",
       "48  0000101778-23-000107  2023-08-03  2023-06-30  2023-08-03T16:08:15.000Z   \n",
       "51  0000101778-23-000096  2023-05-04  2023-03-31  2023-05-04T16:04:44.000Z   \n",
       "79  0000101778-23-000030  2023-02-16  2022-12-31  2023-02-16T16:12:52.000Z   \n",
       "\n",
       "   act  form fileNumber filmNumber items      size  isXBRL  isInlineXBRL  \\\n",
       "14  34  10-K  001-05153   24665402        37363485       1             1   \n",
       "25  34  10-Q  001-05153  231372683        11308006       1             1   \n",
       "48  34  10-Q  001-05153  231139959        10194187       1             1   \n",
       "51  34  10-Q  001-05153   23888556         9078026       1             1   \n",
       "79  34  10-K  001-05153   23638645        22321967       1             1   \n",
       "\n",
       "     primaryDocument primaryDocDescription  \n",
       "14  mro-20231231.htm                  10-K  \n",
       "25  mro-20230930.htm                  10-Q  \n",
       "48  mro-20230630.htm                  10-Q  \n",
       "51  mro-20230331.htm                  10-Q  \n",
       "79  mro-20221231.htm                  10-K  "
      ],
      "text/html": [
       "\n",
       "  <div id=\"df-164f2633-9a03-466f-b4a3-1a1307510bcc\" class=\"colab-df-container\">\n",
       "    <div>\n",
       "<style scoped>\n",
       "    .dataframe tbody tr th:only-of-type {\n",
       "        vertical-align: middle;\n",
       "    }\n",
       "\n",
       "    .dataframe tbody tr th {\n",
       "        vertical-align: top;\n",
       "    }\n",
       "\n",
       "    .dataframe thead th {\n",
       "        text-align: right;\n",
       "    }\n",
       "</style>\n",
       "<table border=\"1\" class=\"dataframe\">\n",
       "  <thead>\n",
       "    <tr style=\"text-align: right;\">\n",
       "      <th></th>\n",
       "      <th>accessionNumber</th>\n",
       "      <th>filingDate</th>\n",
       "      <th>reportDate</th>\n",
       "      <th>acceptanceDateTime</th>\n",
       "      <th>act</th>\n",
       "      <th>form</th>\n",
       "      <th>fileNumber</th>\n",
       "      <th>filmNumber</th>\n",
       "      <th>items</th>\n",
       "      <th>size</th>\n",
       "      <th>isXBRL</th>\n",
       "      <th>isInlineXBRL</th>\n",
       "      <th>primaryDocument</th>\n",
       "      <th>primaryDocDescription</th>\n",
       "    </tr>\n",
       "  </thead>\n",
       "  <tbody>\n",
       "    <tr>\n",
       "      <th>14</th>\n",
       "      <td>0000101778-24-000023</td>\n",
       "      <td>2024-02-22</td>\n",
       "      <td>2023-12-31</td>\n",
       "      <td>2024-02-22T16:33:31.000Z</td>\n",
       "      <td>34</td>\n",
       "      <td>10-K</td>\n",
       "      <td>001-05153</td>\n",
       "      <td>24665402</td>\n",
       "      <td></td>\n",
       "      <td>37363485</td>\n",
       "      <td>1</td>\n",
       "      <td>1</td>\n",
       "      <td>mro-20231231.htm</td>\n",
       "      <td>10-K</td>\n",
       "    </tr>\n",
       "    <tr>\n",
       "      <th>25</th>\n",
       "      <td>0000101778-23-000146</td>\n",
       "      <td>2023-11-02</td>\n",
       "      <td>2023-09-30</td>\n",
       "      <td>2023-11-02T16:21:32.000Z</td>\n",
       "      <td>34</td>\n",
       "      <td>10-Q</td>\n",
       "      <td>001-05153</td>\n",
       "      <td>231372683</td>\n",
       "      <td></td>\n",
       "      <td>11308006</td>\n",
       "      <td>1</td>\n",
       "      <td>1</td>\n",
       "      <td>mro-20230930.htm</td>\n",
       "      <td>10-Q</td>\n",
       "    </tr>\n",
       "    <tr>\n",
       "      <th>48</th>\n",
       "      <td>0000101778-23-000107</td>\n",
       "      <td>2023-08-03</td>\n",
       "      <td>2023-06-30</td>\n",
       "      <td>2023-08-03T16:08:15.000Z</td>\n",
       "      <td>34</td>\n",
       "      <td>10-Q</td>\n",
       "      <td>001-05153</td>\n",
       "      <td>231139959</td>\n",
       "      <td></td>\n",
       "      <td>10194187</td>\n",
       "      <td>1</td>\n",
       "      <td>1</td>\n",
       "      <td>mro-20230630.htm</td>\n",
       "      <td>10-Q</td>\n",
       "    </tr>\n",
       "    <tr>\n",
       "      <th>51</th>\n",
       "      <td>0000101778-23-000096</td>\n",
       "      <td>2023-05-04</td>\n",
       "      <td>2023-03-31</td>\n",
       "      <td>2023-05-04T16:04:44.000Z</td>\n",
       "      <td>34</td>\n",
       "      <td>10-Q</td>\n",
       "      <td>001-05153</td>\n",
       "      <td>23888556</td>\n",
       "      <td></td>\n",
       "      <td>9078026</td>\n",
       "      <td>1</td>\n",
       "      <td>1</td>\n",
       "      <td>mro-20230331.htm</td>\n",
       "      <td>10-Q</td>\n",
       "    </tr>\n",
       "    <tr>\n",
       "      <th>79</th>\n",
       "      <td>0000101778-23-000030</td>\n",
       "      <td>2023-02-16</td>\n",
       "      <td>2022-12-31</td>\n",
       "      <td>2023-02-16T16:12:52.000Z</td>\n",
       "      <td>34</td>\n",
       "      <td>10-K</td>\n",
       "      <td>001-05153</td>\n",
       "      <td>23638645</td>\n",
       "      <td></td>\n",
       "      <td>22321967</td>\n",
       "      <td>1</td>\n",
       "      <td>1</td>\n",
       "      <td>mro-20221231.htm</td>\n",
       "      <td>10-K</td>\n",
       "    </tr>\n",
       "  </tbody>\n",
       "</table>\n",
       "</div>\n",
       "    <div class=\"colab-df-buttons\">\n",
       "\n",
       "  <div class=\"colab-df-container\">\n",
       "    <button class=\"colab-df-convert\" onclick=\"convertToInteractive('df-164f2633-9a03-466f-b4a3-1a1307510bcc')\"\n",
       "            title=\"Convert this dataframe to an interactive table.\"\n",
       "            style=\"display:none;\">\n",
       "\n",
       "  <svg xmlns=\"http://www.w3.org/2000/svg\" height=\"24px\" viewBox=\"0 -960 960 960\">\n",
       "    <path d=\"M120-120v-720h720v720H120Zm60-500h600v-160H180v160Zm220 220h160v-160H400v160Zm0 220h160v-160H400v160ZM180-400h160v-160H180v160Zm440 0h160v-160H620v160ZM180-180h160v-160H180v160Zm440 0h160v-160H620v160Z\"/>\n",
       "  </svg>\n",
       "    </button>\n",
       "\n",
       "  <style>\n",
       "    .colab-df-container {\n",
       "      display:flex;\n",
       "      gap: 12px;\n",
       "    }\n",
       "\n",
       "    .colab-df-convert {\n",
       "      background-color: #E8F0FE;\n",
       "      border: none;\n",
       "      border-radius: 50%;\n",
       "      cursor: pointer;\n",
       "      display: none;\n",
       "      fill: #1967D2;\n",
       "      height: 32px;\n",
       "      padding: 0 0 0 0;\n",
       "      width: 32px;\n",
       "    }\n",
       "\n",
       "    .colab-df-convert:hover {\n",
       "      background-color: #E2EBFA;\n",
       "      box-shadow: 0px 1px 2px rgba(60, 64, 67, 0.3), 0px 1px 3px 1px rgba(60, 64, 67, 0.15);\n",
       "      fill: #174EA6;\n",
       "    }\n",
       "\n",
       "    .colab-df-buttons div {\n",
       "      margin-bottom: 4px;\n",
       "    }\n",
       "\n",
       "    [theme=dark] .colab-df-convert {\n",
       "      background-color: #3B4455;\n",
       "      fill: #D2E3FC;\n",
       "    }\n",
       "\n",
       "    [theme=dark] .colab-df-convert:hover {\n",
       "      background-color: #434B5C;\n",
       "      box-shadow: 0px 1px 3px 1px rgba(0, 0, 0, 0.15);\n",
       "      filter: drop-shadow(0px 1px 2px rgba(0, 0, 0, 0.3));\n",
       "      fill: #FFFFFF;\n",
       "    }\n",
       "  </style>\n",
       "\n",
       "    <script>\n",
       "      const buttonEl =\n",
       "        document.querySelector('#df-164f2633-9a03-466f-b4a3-1a1307510bcc button.colab-df-convert');\n",
       "      buttonEl.style.display =\n",
       "        google.colab.kernel.accessAllowed ? 'block' : 'none';\n",
       "\n",
       "      async function convertToInteractive(key) {\n",
       "        const element = document.querySelector('#df-164f2633-9a03-466f-b4a3-1a1307510bcc');\n",
       "        const dataTable =\n",
       "          await google.colab.kernel.invokeFunction('convertToInteractive',\n",
       "                                                    [key], {});\n",
       "        if (!dataTable) return;\n",
       "\n",
       "        const docLinkHtml = 'Like what you see? Visit the ' +\n",
       "          '<a target=\"_blank\" href=https://colab.research.google.com/notebooks/data_table.ipynb>data table notebook</a>'\n",
       "          + ' to learn more about interactive tables.';\n",
       "        element.innerHTML = '';\n",
       "        dataTable['output_type'] = 'display_data';\n",
       "        await google.colab.output.renderOutput(dataTable, element);\n",
       "        const docLink = document.createElement('div');\n",
       "        docLink.innerHTML = docLinkHtml;\n",
       "        element.appendChild(docLink);\n",
       "      }\n",
       "    </script>\n",
       "  </div>\n",
       "\n",
       "\n",
       "<div id=\"df-bea04a35-e492-4ae1-b746-5f279727fb6b\">\n",
       "  <button class=\"colab-df-quickchart\" onclick=\"quickchart('df-bea04a35-e492-4ae1-b746-5f279727fb6b')\"\n",
       "            title=\"Suggest charts\"\n",
       "            style=\"display:none;\">\n",
       "\n",
       "<svg xmlns=\"http://www.w3.org/2000/svg\" height=\"24px\"viewBox=\"0 0 24 24\"\n",
       "     width=\"24px\">\n",
       "    <g>\n",
       "        <path d=\"M19 3H5c-1.1 0-2 .9-2 2v14c0 1.1.9 2 2 2h14c1.1 0 2-.9 2-2V5c0-1.1-.9-2-2-2zM9 17H7v-7h2v7zm4 0h-2V7h2v10zm4 0h-2v-4h2v4z\"/>\n",
       "    </g>\n",
       "</svg>\n",
       "  </button>\n",
       "\n",
       "<style>\n",
       "  .colab-df-quickchart {\n",
       "      --bg-color: #E8F0FE;\n",
       "      --fill-color: #1967D2;\n",
       "      --hover-bg-color: #E2EBFA;\n",
       "      --hover-fill-color: #174EA6;\n",
       "      --disabled-fill-color: #AAA;\n",
       "      --disabled-bg-color: #DDD;\n",
       "  }\n",
       "\n",
       "  [theme=dark] .colab-df-quickchart {\n",
       "      --bg-color: #3B4455;\n",
       "      --fill-color: #D2E3FC;\n",
       "      --hover-bg-color: #434B5C;\n",
       "      --hover-fill-color: #FFFFFF;\n",
       "      --disabled-bg-color: #3B4455;\n",
       "      --disabled-fill-color: #666;\n",
       "  }\n",
       "\n",
       "  .colab-df-quickchart {\n",
       "    background-color: var(--bg-color);\n",
       "    border: none;\n",
       "    border-radius: 50%;\n",
       "    cursor: pointer;\n",
       "    display: none;\n",
       "    fill: var(--fill-color);\n",
       "    height: 32px;\n",
       "    padding: 0;\n",
       "    width: 32px;\n",
       "  }\n",
       "\n",
       "  .colab-df-quickchart:hover {\n",
       "    background-color: var(--hover-bg-color);\n",
       "    box-shadow: 0 1px 2px rgba(60, 64, 67, 0.3), 0 1px 3px 1px rgba(60, 64, 67, 0.15);\n",
       "    fill: var(--button-hover-fill-color);\n",
       "  }\n",
       "\n",
       "  .colab-df-quickchart-complete:disabled,\n",
       "  .colab-df-quickchart-complete:disabled:hover {\n",
       "    background-color: var(--disabled-bg-color);\n",
       "    fill: var(--disabled-fill-color);\n",
       "    box-shadow: none;\n",
       "  }\n",
       "\n",
       "  .colab-df-spinner {\n",
       "    border: 2px solid var(--fill-color);\n",
       "    border-color: transparent;\n",
       "    border-bottom-color: var(--fill-color);\n",
       "    animation:\n",
       "      spin 1s steps(1) infinite;\n",
       "  }\n",
       "\n",
       "  @keyframes spin {\n",
       "    0% {\n",
       "      border-color: transparent;\n",
       "      border-bottom-color: var(--fill-color);\n",
       "      border-left-color: var(--fill-color);\n",
       "    }\n",
       "    20% {\n",
       "      border-color: transparent;\n",
       "      border-left-color: var(--fill-color);\n",
       "      border-top-color: var(--fill-color);\n",
       "    }\n",
       "    30% {\n",
       "      border-color: transparent;\n",
       "      border-left-color: var(--fill-color);\n",
       "      border-top-color: var(--fill-color);\n",
       "      border-right-color: var(--fill-color);\n",
       "    }\n",
       "    40% {\n",
       "      border-color: transparent;\n",
       "      border-right-color: var(--fill-color);\n",
       "      border-top-color: var(--fill-color);\n",
       "    }\n",
       "    60% {\n",
       "      border-color: transparent;\n",
       "      border-right-color: var(--fill-color);\n",
       "    }\n",
       "    80% {\n",
       "      border-color: transparent;\n",
       "      border-right-color: var(--fill-color);\n",
       "      border-bottom-color: var(--fill-color);\n",
       "    }\n",
       "    90% {\n",
       "      border-color: transparent;\n",
       "      border-bottom-color: var(--fill-color);\n",
       "    }\n",
       "  }\n",
       "</style>\n",
       "\n",
       "  <script>\n",
       "    async function quickchart(key) {\n",
       "      const quickchartButtonEl =\n",
       "        document.querySelector('#' + key + ' button');\n",
       "      quickchartButtonEl.disabled = true;  // To prevent multiple clicks.\n",
       "      quickchartButtonEl.classList.add('colab-df-spinner');\n",
       "      try {\n",
       "        const charts = await google.colab.kernel.invokeFunction(\n",
       "            'suggestCharts', [key], {});\n",
       "      } catch (error) {\n",
       "        console.error('Error during call to suggestCharts:', error);\n",
       "      }\n",
       "      quickchartButtonEl.classList.remove('colab-df-spinner');\n",
       "      quickchartButtonEl.classList.add('colab-df-quickchart-complete');\n",
       "    }\n",
       "    (() => {\n",
       "      let quickchartButtonEl =\n",
       "        document.querySelector('#df-bea04a35-e492-4ae1-b746-5f279727fb6b button');\n",
       "      quickchartButtonEl.style.display =\n",
       "        google.colab.kernel.accessAllowed ? 'block' : 'none';\n",
       "    })();\n",
       "  </script>\n",
       "</div>\n",
       "    </div>\n",
       "  </div>\n"
      ],
      "application/vnd.google.colaboratory.intrinsic+json": {
       "type": "dataframe",
       "variable_name": "recents_selected_releases",
       "repr_error": "'str' object has no attribute 'empty'"
      }
     },
     "metadata": {},
     "execution_count": 7
    }
   ]
  },
  {
   "cell_type": "markdown",
   "source": [
    "https://www.sec.gov/ixviewer/ix.html?doc=/Archives/edgar/data/101778/0000101778-24-000019/mro-20240221.htm"
   ],
   "metadata": {
    "collapsed": false
   }
  },
  {
   "cell_type": "code",
   "source": [
    "recents_selected_releases.shape"
   ],
   "metadata": {
    "colab": {
     "base_uri": "https://localhost:8080/"
    },
    "id": "wVO1IFW93QsG",
    "outputId": "bcca22b3-9d0c-4615-ab37-2171b52f85c9"
   },
   "execution_count": null,
   "outputs": [
    {
     "output_type": "execute_result",
     "data": {
      "text/plain": [
       "(46, 14)"
      ]
     },
     "metadata": {},
     "execution_count": 12
    }
   ]
  },
  {
   "cell_type": "code",
   "source": [
    "dates_of_publication = recents_selected_releases['filingDate']"
   ],
   "metadata": {
    "colab": {
     "base_uri": "https://localhost:8080/"
    },
    "id": "CbJACCtfz51F",
    "outputId": "c8d6397c-1b33-42d8-85b4-944100eef295"
   },
   "execution_count": null,
   "outputs": [
    {
     "output_type": "execute_result",
     "data": {
      "text/plain": [
       "0      2024-02-22\n",
       "11     2023-11-02\n",
       "34     2023-08-03\n",
       "37     2023-05-04\n",
       "65     2023-02-16\n",
       "91     2022-11-03\n",
       "97     2022-08-04\n",
       "112    2022-05-05\n",
       "156    2022-02-17\n",
       "169    2021-11-04\n",
       "172    2021-08-05\n",
       "178    2021-05-06\n",
       "208    2021-02-23\n",
       "221    2020-11-05\n",
       "223    2020-08-06\n",
       "230    2020-05-07\n",
       "255    2020-02-20\n",
       "272    2019-11-07\n",
       "281    2019-08-08\n",
       "288    2019-05-02\n",
       "309    2019-02-21\n",
       "322    2018-11-08\n",
       "326    2018-08-02\n",
       "334    2018-05-03\n",
       "363    2018-02-22\n",
       "380    2017-11-02\n",
       "385    2017-08-03\n",
       "399    2017-05-05\n",
       "415    2017-02-24\n",
       "452    2016-11-03\n",
       "465    2016-08-04\n",
       "473    2016-05-05\n",
       "494    2016-02-25\n",
       "511    2015-11-05\n",
       "526    2015-08-06\n",
       "537    2015-05-07\n",
       "550    2015-03-02\n",
       "574    2014-11-04\n",
       "590    2014-08-05\n",
       "608    2014-05-07\n",
       "621    2014-02-28\n",
       "652    2013-11-06\n",
       "672    2013-08-08\n",
       "684    2013-05-10\n",
       "710    2013-02-22\n",
       "732    2012-11-07\n",
       "Name: filingDate, dtype: object"
      ]
     },
     "metadata": {},
     "execution_count": 38
    }
   ]
  },
  {
   "cell_type": "code",
   "outputs": [],
   "source": [
    "# ToDo Check if returns in the dates of publication (or distribution of returns) is significantly different from average"
   ],
   "metadata": {
    "collapsed": false
   }
  }
 ]
}
